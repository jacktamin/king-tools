{
 "cells": [
  {
   "cell_type": "code",
   "execution_count": 1,
   "id": "latter-group",
   "metadata": {},
   "outputs": [],
   "source": [
    "from picTotext import PicToText"
   ]
  },
  {
   "cell_type": "code",
   "execution_count": 2,
   "id": "voluntary-potter",
   "metadata": {},
   "outputs": [],
   "source": [
    "ptt = PicToText()"
   ]
  },
  {
   "cell_type": "code",
   "execution_count": 3,
   "id": "integrated-rochester",
   "metadata": {},
   "outputs": [
    {
     "name": "stdout",
     "output_type": "stream",
     "text": [
      "cmd ‘mute’:\n",
      "True:\n",
      "group_id message.chat.username\n",
      "message id message.message id\n",
      "robot.Mute Chat(group_id group_id,message id message id)\n",
      "\f",
      "\n"
     ]
    }
   ],
   "source": [
    "ptt.ptt(pic_name='/home/ahmad/Pictures/pics/tre.png',show=True)"
   ]
  },
  {
   "cell_type": "code",
   "execution_count": null,
   "id": "waiting-explosion",
   "metadata": {},
   "outputs": [],
   "source": []
  }
 ],
 "metadata": {
  "kernelspec": {
   "display_name": "Python 3",
   "language": "python",
   "name": "python3"
  },
  "language_info": {
   "codemirror_mode": {
    "name": "ipython",
    "version": 3
   },
   "file_extension": ".py",
   "mimetype": "text/x-python",
   "name": "python",
   "nbconvert_exporter": "python",
   "pygments_lexer": "ipython3",
   "version": "3.9.2"
  }
 },
 "nbformat": 4,
 "nbformat_minor": 5
}
